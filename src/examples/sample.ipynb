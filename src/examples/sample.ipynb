{
 "cells": [
  {
   "cell_type": "markdown",
   "metadata": {},
   "source": [
    "We first define the input data. The input data is has the following structure: We have a group of subjects (say S1 and S2) and each subject has completed the decision-making task multiple times (multiple blocks), say each subject has completed the task two times in this example, i.e., we have two blocks of data for each subject. The data within each block is a ditonary containing three numpy arrays: 'action', 'state', 'reward'. \n",
    "\n",
    "'action' containig the actions taken by the subject on each trial and it should be a non-zero integer or -1. If the action is -1 it will coded by a zero vector and corresponds to no-action. Dimesionlity of 'action' is B x |T| in which |T| is the number of trials.\n",
    "\n",
    "'state' contains the state of the environment each trial. Its dimesionlity is B x |T| x |S| in which |T| is the number of trials, and |S| is the lenght of state vector. \n",
    "\n",
    "'reward' contains the reward received after taking each actions. Its dimesionlity is B x |T| in which |T| is the number of trials.\n",
    "\n",
    "For example, if subject S1 has completed 6 trials in the firt block and 4 trials in the second block and subject 2 has completed 5, 6 trials in the first and second blocks respectivly, then the data structure can look like this:\n",
    "\n",
    "   "
   ]
  },
  {
   "cell_type": "code",
   "execution_count": 1,
   "metadata": {
    "collapsed": true
   },
   "outputs": [],
   "source": [
    "#  Data\n",
    "import numpy as np\n",
    "data = {'S1':\n",
    "        [\n",
    "            {\n",
    "                'action': np.array([\n",
    "                    [0, 1, 0, 1, 0, 1]\n",
    "                ]),\n",
    "                'state': np.array([\n",
    "                    [[0, 0], [0, 1], [0.1, 0.2], [0.5, 0.6], [0, 0], [1, 1]]\n",
    "                ]),\n",
    "                'reward': np.array([\n",
    "                    [0, 1, 0, 1, 0, 1]\n",
    "                ]),\n",
    "                'id': 'S1',\n",
    "                \n",
    "                'block': 0\n",
    "            },\n",
    "            {\n",
    "                'action': np.array([\n",
    "                    [1, 1, 0, -1]\n",
    "                ]),\n",
    "                'state': np.array([\n",
    "                    [[0, 1], [1, -1], [0.1, 0], [0, 0.6]]\n",
    "                ]),\n",
    "                'reward': np.array([\n",
    "                    [0, 0, 0, 0]\n",
    "                ]),\n",
    "                'id': 'S1',\n",
    "                \n",
    "                'block': 1\n",
    "            }\n",
    "            \n",
    "        ],\n",
    "\n",
    "    'S2':\n",
    "        [\n",
    "            {\n",
    "                'action': np.array([\n",
    "                    [0, 1, 0, 1, 0]\n",
    "                ]),\n",
    "                'state': np.array([\n",
    "                    [[0, 0], [0, 1], [0.1, 0.2], [0.5, 0.6], [0, 0]]\n",
    "                ]),\n",
    "                'reward': np.array([\n",
    "                    [0, 1, 0, 1, 0]\n",
    "                ]),\n",
    "                'id': 'S2',\n",
    "                \n",
    "                'block': 0\n",
    "                \n",
    "            },\n",
    "            {\n",
    "                'action': np.array([\n",
    "                    [1, 1, 0, 1, 1, 1]\n",
    "                ]),\n",
    "                'state': np.array([\n",
    "                    [[0, 0], [0, -1], [0.1, 0.2], [0.5, 0.6], [0, 1], [-1, -1]]\n",
    "                ]),\n",
    "                'reward': np.array([\n",
    "                    [0, 0, 0, 0, 0, 1]\n",
    "                ]),\n",
    "                'id': 'S2',\n",
    "                \n",
    "                'block': 1\n",
    "                \n",
    "            }\n",
    "            \n",
    "        ]\n",
    "\n",
    "        }\n"
   ]
  },
  {
   "cell_type": "code",
   "execution_count": 2,
   "metadata": {},
   "outputs": [
    {
     "data": {
      "text/plain": [
       "{'S1': [{'action': array([[0, 1, 0, 1, 0, 1]]),\n   'block': 0,\n   'id': 'S1',\n   'reward': array([[0, 1, 0, 1, 0, 1]]),\n   'state': array([[[0. , 0. ],\n           [0. , 1. ],\n           [0.1, 0.2],\n           [0.5, 0.6],\n           [0. , 0. ],\n           [1. , 1. ]]])},\n  {'action': array([[ 1,  1,  0, -1]]),\n   'block': 1,\n   'id': 'S1',\n   'reward': array([[0, 0, 0, 0]]),\n   'state': array([[[ 0. ,  1. ],\n           [ 1. , -1. ],\n           [ 0.1,  0. ],\n           [ 0. ,  0.6]]])}],\n 'S2': [{'action': array([[0, 1, 0, 1, 0]]),\n   'block': 0,\n   'id': 'S2',\n   'reward': array([[0, 1, 0, 1, 0]]),\n   'state': array([[[0. , 0. ],\n           [0. , 1. ],\n           [0.1, 0.2],\n           [0.5, 0.6],\n           [0. , 0. ]]])},\n  {'action': array([[1, 1, 0, 1, 1, 1]]),\n   'block': 1,\n   'id': 'S2',\n   'reward': array([[0, 0, 0, 0, 0, 1]]),\n   'state': array([[[ 0. ,  0. ],\n           [ 0. , -1. ],\n           [ 0.1,  0.2],\n           [ 0.5,  0.6],\n           [ 0. ,  1. ],\n           [-1. , -1. ]]])}]}"
      ]
     },
     "execution_count": 2,
     "metadata": {},
     "output_type": "execute_result"
    }
   ],
   "source": [
    "data"
   ]
  },
  {
   "cell_type": "markdown",
   "metadata": {},
   "source": [
    "In the above example, |A|=2 (there are two actions coded as 0 and 1), and |S|=2 (the state vector has two elements). For example, if there are three stimuli in the environment, they can be coded as [1, 0, 0], [0, 1, 0], [0, 0, 1] state vectors. In this case |S|=3."
   ]
  },
  {
   "cell_type": "code",
   "execution_count": 3,
   "metadata": {},
   "outputs": [
    {
     "name": "stderr",
     "output_type": "stream",
     "text": [
      "2019-06-12 22:52:14,745 - DeepRL - DEBUG - model created with ncells: 5\n"
     ]
    },
    {
     "name": "stderr",
     "output_type": "stream",
     "text": [
      "2019-06-12 22:52:14,746 - DeepRL - DEBUG - number of actions: 2\n"
     ]
    },
    {
     "name": "stderr",
     "output_type": "stream",
     "text": [
      "2019-06-12 22:52:14,747 - DeepRL - DEBUG - number of states: 2\n"
     ]
    }
   ],
   "source": [
    "from actionflow.rnn.lstm_beh import LSTMBeh\n",
    "worker = LSTMBeh(a_size=2, s_size=2, n_cells=5)\n"
   ]
  },
  {
   "cell_type": "markdown",
   "metadata": {},
   "source": [
    "Finally, we train the model:"
   ]
  },
  {
   "cell_type": "code",
   "execution_count": 4,
   "metadata": {},
   "outputs": [
    {
     "name": "stderr",
     "output_type": "stream",
     "text": [
      "2019-06-12 22:52:17,191 - DeepRL - DEBUG - version control: ('948674eb0332bf7d0337358cd64a8c958c07921e', 'master')\n"
     ]
    },
    {
     "name": "stderr",
     "output_type": "stream",
     "text": [
      "2019-06-12 22:52:17,194 - DeepRL - DEBUG - learning rate: 0.01\n"
     ]
    },
    {
     "name": "stderr",
     "output_type": "stream",
     "text": [
      "2019-06-12 22:52:17,195 - DeepRL - DEBUG - global iters: 50\n"
     ]
    },
    {
     "name": "stderr",
     "output_type": "stream",
     "text": [
      "2019-06-12 22:52:17,196 - DeepRL - DEBUG - training data-points: 2\n"
     ]
    },
    {
     "name": "stderr",
     "output_type": "stream",
     "text": [
      "2019-06-12 22:52:17,198 - DeepRL - DEBUG - test data-points: None\n"
     ]
    },
    {
     "name": "stderr",
     "output_type": "stream",
     "text": [
      "2019-06-12 22:52:17,582 - DeepRL - DEBUG - opt started...\n"
     ]
    },
    {
     "name": "stdout",
     "output_type": "stream",
     "text": [
      "INFO:tensorflow:../results/model-0/model.cptk is not in all_model_checkpoint_paths. Manually adding it.\n"
     ]
    },
    {
     "name": "stderr",
     "output_type": "stream",
     "text": [
      "2019-06-12 22:52:17,769 - DeepRL - DEBUG - global iter =    0 total obj: 13.8594\n"
     ]
    },
    {
     "name": "stderr",
     "output_type": "stream",
     "text": [
      "2019-06-12 22:52:17,793 - DeepRL - DEBUG - global iter =    1 total obj: 13.7952\n"
     ]
    },
    {
     "name": "stderr",
     "output_type": "stream",
     "text": [
      "2019-06-12 22:52:17,817 - DeepRL - DEBUG - global iter =    2 total obj: 13.7147\n"
     ]
    },
    {
     "name": "stderr",
     "output_type": "stream",
     "text": [
      "2019-06-12 22:52:17,840 - DeepRL - DEBUG - global iter =    3 total obj: 13.5996\n"
     ]
    },
    {
     "name": "stderr",
     "output_type": "stream",
     "text": [
      "2019-06-12 22:52:17,861 - DeepRL - DEBUG - global iter =    4 total obj: 13.4414\n"
     ]
    },
    {
     "name": "stderr",
     "output_type": "stream",
     "text": [
      "2019-06-12 22:52:17,880 - DeepRL - DEBUG - global iter =    5 total obj: 13.2321\n"
     ]
    },
    {
     "name": "stderr",
     "output_type": "stream",
     "text": [
      "2019-06-12 22:52:17,898 - DeepRL - DEBUG - global iter =    6 total obj: 12.9647\n"
     ]
    },
    {
     "name": "stderr",
     "output_type": "stream",
     "text": [
      "2019-06-12 22:52:17,916 - DeepRL - DEBUG - global iter =    7 total obj: 12.6328\n"
     ]
    },
    {
     "name": "stderr",
     "output_type": "stream",
     "text": [
      "2019-06-12 22:52:17,933 - DeepRL - DEBUG - global iter =    8 total obj: 12.2320\n"
     ]
    },
    {
     "name": "stderr",
     "output_type": "stream",
     "text": [
      "2019-06-12 22:52:17,950 - DeepRL - DEBUG - global iter =    9 total obj: 11.7626\n"
     ]
    },
    {
     "name": "stderr",
     "output_type": "stream",
     "text": [
      "2019-06-12 22:52:17,968 - DeepRL - DEBUG - global iter =   10 total obj: 11.2324\n"
     ]
    },
    {
     "name": "stderr",
     "output_type": "stream",
     "text": [
      "2019-06-12 22:52:17,985 - DeepRL - DEBUG - global iter =   11 total obj: 10.6570\n"
     ]
    },
    {
     "name": "stderr",
     "output_type": "stream",
     "text": [
      "2019-06-12 22:52:18,002 - DeepRL - DEBUG - global iter =   12 total obj: 10.0568\n"
     ]
    },
    {
     "name": "stderr",
     "output_type": "stream",
     "text": [
      "2019-06-12 22:52:18,021 - DeepRL - DEBUG - global iter =   13 total obj:  9.4517\n"
     ]
    },
    {
     "name": "stderr",
     "output_type": "stream",
     "text": [
      "2019-06-12 22:52:18,041 - DeepRL - DEBUG - global iter =   14 total obj:  8.8560\n"
     ]
    },
    {
     "name": "stderr",
     "output_type": "stream",
     "text": [
      "2019-06-12 22:52:18,058 - DeepRL - DEBUG - global iter =   15 total obj:  8.2755\n"
     ]
    },
    {
     "name": "stderr",
     "output_type": "stream",
     "text": [
      "2019-06-12 22:52:18,076 - DeepRL - DEBUG - global iter =   16 total obj:  7.7088\n"
     ]
    },
    {
     "name": "stderr",
     "output_type": "stream",
     "text": [
      "2019-06-12 22:52:18,095 - DeepRL - DEBUG - global iter =   17 total obj:  7.1546\n"
     ]
    },
    {
     "name": "stderr",
     "output_type": "stream",
     "text": [
      "2019-06-12 22:52:18,112 - DeepRL - DEBUG - global iter =   18 total obj:  6.6179\n"
     ]
    },
    {
     "name": "stderr",
     "output_type": "stream",
     "text": [
      "2019-06-12 22:52:18,130 - DeepRL - DEBUG - global iter =   19 total obj:  6.1114\n"
     ]
    },
    {
     "name": "stderr",
     "output_type": "stream",
     "text": [
      "2019-06-12 22:52:18,149 - DeepRL - DEBUG - global iter =   20 total obj:  5.6491\n"
     ]
    },
    {
     "name": "stderr",
     "output_type": "stream",
     "text": [
      "2019-06-12 22:52:18,166 - DeepRL - DEBUG - global iter =   21 total obj:  5.2404\n"
     ]
    },
    {
     "name": "stderr",
     "output_type": "stream",
     "text": [
      "2019-06-12 22:52:18,185 - DeepRL - DEBUG - global iter =   22 total obj:  4.8872\n"
     ]
    },
    {
     "name": "stderr",
     "output_type": "stream",
     "text": [
      "2019-06-12 22:52:18,202 - DeepRL - DEBUG - global iter =   23 total obj:  4.5856\n"
     ]
    },
    {
     "name": "stderr",
     "output_type": "stream",
     "text": [
      "2019-06-12 22:52:18,221 - DeepRL - DEBUG - global iter =   24 total obj:  4.3285\n"
     ]
    },
    {
     "name": "stderr",
     "output_type": "stream",
     "text": [
      "2019-06-12 22:52:18,240 - DeepRL - DEBUG - global iter =   25 total obj:  4.1081\n"
     ]
    },
    {
     "name": "stderr",
     "output_type": "stream",
     "text": [
      "2019-06-12 22:52:18,258 - DeepRL - DEBUG - global iter =   26 total obj:  3.9175\n"
     ]
    },
    {
     "name": "stderr",
     "output_type": "stream",
     "text": [
      "2019-06-12 22:52:18,275 - DeepRL - DEBUG - global iter =   27 total obj:  3.7506\n"
     ]
    },
    {
     "name": "stderr",
     "output_type": "stream",
     "text": [
      "2019-06-12 22:52:18,293 - DeepRL - DEBUG - global iter =   28 total obj:  3.6027\n"
     ]
    },
    {
     "name": "stderr",
     "output_type": "stream",
     "text": [
      "2019-06-12 22:52:18,312 - DeepRL - DEBUG - global iter =   29 total obj:  3.4703\n"
     ]
    },
    {
     "name": "stderr",
     "output_type": "stream",
     "text": [
      "2019-06-12 22:52:18,329 - DeepRL - DEBUG - global iter =   30 total obj:  3.3506\n"
     ]
    },
    {
     "name": "stderr",
     "output_type": "stream",
     "text": [
      "2019-06-12 22:52:18,348 - DeepRL - DEBUG - global iter =   31 total obj:  3.2419\n"
     ]
    },
    {
     "name": "stderr",
     "output_type": "stream",
     "text": [
      "2019-06-12 22:52:18,366 - DeepRL - DEBUG - global iter =   32 total obj:  3.1428\n"
     ]
    },
    {
     "name": "stderr",
     "output_type": "stream",
     "text": [
      "2019-06-12 22:52:18,384 - DeepRL - DEBUG - global iter =   33 total obj:  3.0523\n"
     ]
    },
    {
     "name": "stderr",
     "output_type": "stream",
     "text": [
      "2019-06-12 22:52:18,402 - DeepRL - DEBUG - global iter =   34 total obj:  2.9696\n"
     ]
    },
    {
     "name": "stderr",
     "output_type": "stream",
     "text": [
      "2019-06-12 22:52:18,421 - DeepRL - DEBUG - global iter =   35 total obj:  2.8940\n"
     ]
    },
    {
     "name": "stderr",
     "output_type": "stream",
     "text": [
      "2019-06-12 22:52:18,439 - DeepRL - DEBUG - global iter =   36 total obj:  2.8249\n"
     ]
    },
    {
     "name": "stderr",
     "output_type": "stream",
     "text": [
      "2019-06-12 22:52:18,457 - DeepRL - DEBUG - global iter =   37 total obj:  2.7618\n"
     ]
    },
    {
     "name": "stderr",
     "output_type": "stream",
     "text": [
      "2019-06-12 22:52:18,476 - DeepRL - DEBUG - global iter =   38 total obj:  2.7042\n"
     ]
    },
    {
     "name": "stderr",
     "output_type": "stream",
     "text": [
      "2019-06-12 22:52:18,494 - DeepRL - DEBUG - global iter =   39 total obj:  2.6517\n"
     ]
    },
    {
     "name": "stderr",
     "output_type": "stream",
     "text": [
      "2019-06-12 22:52:18,512 - DeepRL - DEBUG - global iter =   40 total obj:  2.6037\n"
     ]
    },
    {
     "name": "stderr",
     "output_type": "stream",
     "text": [
      "2019-06-12 22:52:18,530 - DeepRL - DEBUG - global iter =   41 total obj:  2.5600\n"
     ]
    },
    {
     "name": "stderr",
     "output_type": "stream",
     "text": [
      "2019-06-12 22:52:18,549 - DeepRL - DEBUG - global iter =   42 total obj:  2.5200\n"
     ]
    },
    {
     "name": "stderr",
     "output_type": "stream",
     "text": [
      "2019-06-12 22:52:18,567 - DeepRL - DEBUG - global iter =   43 total obj:  2.4835\n"
     ]
    },
    {
     "name": "stderr",
     "output_type": "stream",
     "text": [
      "2019-06-12 22:52:18,585 - DeepRL - DEBUG - global iter =   44 total obj:  2.4501\n"
     ]
    },
    {
     "name": "stderr",
     "output_type": "stream",
     "text": [
      "2019-06-12 22:52:18,603 - DeepRL - DEBUG - global iter =   45 total obj:  2.4196\n"
     ]
    },
    {
     "name": "stderr",
     "output_type": "stream",
     "text": [
      "2019-06-12 22:52:18,621 - DeepRL - DEBUG - global iter =   46 total obj:  2.3915\n"
     ]
    },
    {
     "name": "stderr",
     "output_type": "stream",
     "text": [
      "2019-06-12 22:52:18,639 - DeepRL - DEBUG - global iter =   47 total obj:  2.3658\n"
     ]
    },
    {
     "name": "stderr",
     "output_type": "stream",
     "text": [
      "2019-06-12 22:52:18,657 - DeepRL - DEBUG - global iter =   48 total obj:  2.3421\n"
     ]
    },
    {
     "name": "stderr",
     "output_type": "stream",
     "text": [
      "2019-06-12 22:52:18,676 - DeepRL - DEBUG - global iter =   49 total obj:  2.3202\n"
     ]
    },
    {
     "name": "stderr",
     "output_type": "stream",
     "text": [
      "2019-06-12 22:52:18,677 - DeepRL - DEBUG - opt finished.\n"
     ]
    },
    {
     "name": "stdout",
     "output_type": "stream",
     "text": [
      "INFO:tensorflow:../results/model-final/model.cptk is not in all_model_checkpoint_paths. Manually adding it.\n"
     ]
    }
   ],
   "source": [
    "from actionflow.rnn.opt_beh import OptBEH\n",
    "from actionflow.util.logger import LogFile\n",
    "\n",
    "output_path = '../results/'\n",
    "with LogFile(output_path, 'run.log'):\n",
    "    OptBEH.optimise(worker, output_path, data, None,\n",
    "                    learning_rate=0.01,\n",
    "                    global_iters=50,\n",
    "                    load_model_path=None\n",
    "                    )"
   ]
  },
  {
   "cell_type": "code",
   "execution_count": null,
   "metadata": {},
   "outputs": [],
   "source": []
  },
  {
   "cell_type": "code",
   "execution_count": 5,
   "metadata": {},
   "outputs": [
    {
     "data": {
      "text/plain": [
       "{'merged': [{'action': array([[ 0,  1,  0,  1,  0, -1],\n          [ 1,  1,  0,  1,  1,  1],\n          [ 0,  1,  0,  1,  0,  1],\n          [ 1,  1,  0, -1, -1, -1]]),\n   'block': 0,\n   'id': ['S2', 'S2', 'S1', 'S1'],\n   'reward': array([[ 0,  1,  0,  1,  0, -1],\n          [ 0,  0,  0,  0,  0,  1],\n          [ 0,  1,  0,  1,  0,  1],\n          [ 0,  0,  0,  0, -1, -1]]),\n   'state': array([[[ 0. ,  0. ],\n           [ 0. ,  1. ],\n           [ 0.1,  0.2],\n           [ 0.5,  0.6],\n           [ 0. ,  0. ],\n           [-1. , -1. ]],\n   \n          [[ 0. ,  0. ],\n           [ 0. , -1. ],\n           [ 0.1,  0.2],\n           [ 0.5,  0.6],\n           [ 0. ,  1. ],\n           [-1. , -1. ]],\n   \n          [[ 0. ,  0. ],\n           [ 0. ,  1. ],\n           [ 0.1,  0.2],\n           [ 0.5,  0.6],\n           [ 0. ,  0. ],\n           [ 1. ,  1. ]],\n   \n          [[ 0. ,  1. ],\n           [ 1. , -1. ],\n           [ 0.1,  0. ],\n           [ 0. ,  0.6],\n           [-1. , -1. ],\n           [-1. , -1. ]]])}]}"
      ]
     },
     "execution_count": 5,
     "metadata": {},
     "output_type": "execute_result"
    }
   ],
   "source": [
    "from actionflow.data.data_process import DataProcess\n",
    "train_merged = DataProcess.merge_data(data)\n",
    "train_merged"
   ]
  },
  {
   "cell_type": "markdown",
   "metadata": {},
   "source": [
    "And then the merged data can be used for training the model as before. The test data can also be passed to the training method, in order to test the mmodel on the training data in regular intervals. Say the test data is as follows:"
   ]
  },
  {
   "cell_type": "code",
   "execution_count": 6,
   "metadata": {},
   "outputs": [],
   "source": [
    "test_data = {'S4':\n",
    "        [\n",
    "            {\n",
    "                'action': np.array([\n",
    "                    [1, 1, 0, 1, 0, 1]\n",
    "                ]),\n",
    "                'state': np.array([\n",
    "                    [[0, 0], [0, 1], [0.0, 0.2], [0.1, 0.2], [1, 1], [1, 1]]\n",
    "                ]),\n",
    "                'reward': np.array([\n",
    "                    [1, 3, 0, 1, 0, 1]\n",
    "                ]),\n",
    "                'id': 'S4',\n",
    "                \n",
    "                'block': 0\n",
    "            },\n",
    "            {\n",
    "                'action': np.array([\n",
    "                    [0, 1, -1, 0]\n",
    "                ]),\n",
    "                'state': np.array([\n",
    "                    [[0, 1], [1, -1], [0.1, 0], [0, 0.6]]\n",
    "                ]),\n",
    "                'reward': np.array([\n",
    "                    [0, 1, 0, 1]\n",
    "                ]),\n",
    "                'id': 'S4',\n",
    "                \n",
    "                'block': 1\n",
    "            }\n",
    "            \n",
    "        ],\n",
    "\n",
    "    'S5':\n",
    "        [\n",
    "            {\n",
    "                'action': np.array([\n",
    "                    [1, 1, 0, 1, 1]\n",
    "                ]),\n",
    "                'state': np.array([\n",
    "                    [[0, 0], [0, 0], [0.1, 0.6], [0.5, 0.6], [1, 1]]\n",
    "                ]),\n",
    "                'reward': np.array([\n",
    "                    [0, 1, 0, 1, 0]\n",
    "                ]),\n",
    "                'id': 'S5',\n",
    "                \n",
    "                'block': 0\n",
    "                \n",
    "            },\n",
    "            {\n",
    "                'action': np.array([\n",
    "                    [1, 1, 0, 1, 1, 1]\n",
    "                ]),\n",
    "                'state': np.array([\n",
    "                    [[0, 0], [0, -1], [0.1, 0.2], [0.5, 0.6], [0, 1], [-1, -1]]\n",
    "                ]),\n",
    "                'reward': np.array([\n",
    "                    [0, 0, 0, 0, 0, 1]\n",
    "                ]),\n",
    "                'id': 'S5',\n",
    "                \n",
    "                'block': 1\n",
    "                \n",
    "            }\n",
    "            \n",
    "        ]\n",
    "\n",
    "        }"
   ]
  },
  {
   "cell_type": "markdown",
   "metadata": {},
   "source": [
    "and we want to test the model every 10 iterations:"
   ]
  },
  {
   "cell_type": "code",
   "execution_count": 7,
   "metadata": {},
   "outputs": [
    {
     "name": "stderr",
     "output_type": "stream",
     "text": [
      "2019-06-12 22:52:29,077 - DeepRL - DEBUG - version control: ('948674eb0332bf7d0337358cd64a8c958c07921e', 'master')\n"
     ]
    },
    {
     "name": "stderr",
     "output_type": "stream",
     "text": [
      "2019-06-12 22:52:29,082 - DeepRL - DEBUG - learning rate: 0.01\n"
     ]
    },
    {
     "name": "stderr",
     "output_type": "stream",
     "text": [
      "2019-06-12 22:52:29,083 - DeepRL - DEBUG - global iters: 50\n"
     ]
    },
    {
     "name": "stderr",
     "output_type": "stream",
     "text": [
      "2019-06-12 22:52:29,085 - DeepRL - DEBUG - training data-points: 2\n"
     ]
    },
    {
     "name": "stderr",
     "output_type": "stream",
     "text": [
      "2019-06-12 22:52:29,087 - DeepRL - DEBUG - test data-points: 2\n"
     ]
    },
    {
     "name": "stderr",
     "output_type": "stream",
     "text": [
      "2019-06-12 22:52:29,557 - DeepRL - DEBUG - opt started...\n"
     ]
    },
    {
     "name": "stderr",
     "output_type": "stream",
     "text": [
      "2019-06-12 22:52:29,559 - DeepRL - DEBUG - started testing...\n"
     ]
    },
    {
     "name": "stderr",
     "output_type": "stream",
     "text": [
      "2019-06-12 22:52:29,743 - DeepRL - DEBUG - finished testing.\n"
     ]
    },
    {
     "name": "stdout",
     "output_type": "stream",
     "text": [
      "INFO:tensorflow:../results/model-0/model.cptk is not in all_model_checkpoint_paths. Manually adding it.\n"
     ]
    },
    {
     "name": "stderr",
     "output_type": "stream",
     "text": [
      "2019-06-12 22:52:30,037 - DeepRL - DEBUG - global iter =    0 total obj: 13.8398\n"
     ]
    },
    {
     "name": "stderr",
     "output_type": "stream",
     "text": [
      "2019-06-12 22:52:30,055 - DeepRL - DEBUG - global iter =    1 total obj: 13.7447\n"
     ]
    },
    {
     "name": "stderr",
     "output_type": "stream",
     "text": [
      "2019-06-12 22:52:30,073 - DeepRL - DEBUG - global iter =    2 total obj: 13.6159\n"
     ]
    },
    {
     "name": "stderr",
     "output_type": "stream",
     "text": [
      "2019-06-12 22:52:30,091 - DeepRL - DEBUG - global iter =    3 total obj: 13.4414\n"
     ]
    },
    {
     "name": "stderr",
     "output_type": "stream",
     "text": [
      "2019-06-12 22:52:30,109 - DeepRL - DEBUG - global iter =    4 total obj: 13.2209\n"
     ]
    },
    {
     "name": "stderr",
     "output_type": "stream",
     "text": [
      "2019-06-12 22:52:30,126 - DeepRL - DEBUG - global iter =    5 total obj: 12.9543\n"
     ]
    },
    {
     "name": "stderr",
     "output_type": "stream",
     "text": [
      "2019-06-12 22:52:30,144 - DeepRL - DEBUG - global iter =    6 total obj: 12.6370\n"
     ]
    },
    {
     "name": "stderr",
     "output_type": "stream",
     "text": [
      "2019-06-12 22:52:30,161 - DeepRL - DEBUG - global iter =    7 total obj: 12.2605\n"
     ]
    },
    {
     "name": "stderr",
     "output_type": "stream",
     "text": [
      "2019-06-12 22:52:30,179 - DeepRL - DEBUG - global iter =    8 total obj: 11.8189\n"
     ]
    },
    {
     "name": "stderr",
     "output_type": "stream",
     "text": [
      "2019-06-12 22:52:30,196 - DeepRL - DEBUG - global iter =    9 total obj: 11.3152\n"
     ]
    },
    {
     "name": "stderr",
     "output_type": "stream",
     "text": [
      "2019-06-12 22:52:30,198 - DeepRL - DEBUG - started testing...\n"
     ]
    },
    {
     "name": "stderr",
     "output_type": "stream",
     "text": [
      "2019-06-12 22:52:30,370 - DeepRL - DEBUG - finished testing.\n"
     ]
    },
    {
     "name": "stdout",
     "output_type": "stream",
     "text": [
      "INFO:tensorflow:../results/model-10/model.cptk is not in all_model_checkpoint_paths. Manually adding it.\n"
     ]
    },
    {
     "name": "stderr",
     "output_type": "stream",
     "text": [
      "2019-06-12 22:52:30,688 - DeepRL - DEBUG - global iter =   10 total obj: 10.7624\n"
     ]
    },
    {
     "name": "stderr",
     "output_type": "stream",
     "text": [
      "2019-06-12 22:52:30,707 - DeepRL - DEBUG - global iter =   11 total obj: 10.1809\n"
     ]
    },
    {
     "name": "stderr",
     "output_type": "stream",
     "text": [
      "2019-06-12 22:52:30,726 - DeepRL - DEBUG - global iter =   12 total obj:  9.5940\n"
     ]
    },
    {
     "name": "stderr",
     "output_type": "stream",
     "text": [
      "2019-06-12 22:52:30,744 - DeepRL - DEBUG - global iter =   13 total obj:  9.0224\n"
     ]
    },
    {
     "name": "stderr",
     "output_type": "stream",
     "text": [
      "2019-06-12 22:52:30,767 - DeepRL - DEBUG - global iter =   14 total obj:  8.4799\n"
     ]
    },
    {
     "name": "stderr",
     "output_type": "stream",
     "text": [
      "2019-06-12 22:52:30,785 - DeepRL - DEBUG - global iter =   15 total obj:  7.9722\n"
     ]
    },
    {
     "name": "stderr",
     "output_type": "stream",
     "text": [
      "2019-06-12 22:52:30,803 - DeepRL - DEBUG - global iter =   16 total obj:  7.5011\n"
     ]
    },
    {
     "name": "stderr",
     "output_type": "stream",
     "text": [
      "2019-06-12 22:52:30,820 - DeepRL - DEBUG - global iter =   17 total obj:  7.0668\n"
     ]
    },
    {
     "name": "stderr",
     "output_type": "stream",
     "text": [
      "2019-06-12 22:52:30,837 - DeepRL - DEBUG - global iter =   18 total obj:  6.6694\n"
     ]
    },
    {
     "name": "stderr",
     "output_type": "stream",
     "text": [
      "2019-06-12 22:52:30,854 - DeepRL - DEBUG - global iter =   19 total obj:  6.3086\n"
     ]
    },
    {
     "name": "stderr",
     "output_type": "stream",
     "text": [
      "2019-06-12 22:52:30,856 - DeepRL - DEBUG - started testing...\n"
     ]
    },
    {
     "name": "stderr",
     "output_type": "stream",
     "text": [
      "2019-06-12 22:52:31,029 - DeepRL - DEBUG - finished testing.\n"
     ]
    },
    {
     "name": "stdout",
     "output_type": "stream",
     "text": [
      "INFO:tensorflow:../results/model-20/model.cptk is not in all_model_checkpoint_paths. Manually adding it.\n"
     ]
    },
    {
     "name": "stderr",
     "output_type": "stream",
     "text": [
      "2019-06-12 22:52:31,279 - DeepRL - DEBUG - global iter =   20 total obj:  5.9829\n"
     ]
    },
    {
     "name": "stderr",
     "output_type": "stream",
     "text": [
      "2019-06-12 22:52:31,297 - DeepRL - DEBUG - global iter =   21 total obj:  5.6899\n"
     ]
    },
    {
     "name": "stderr",
     "output_type": "stream",
     "text": [
      "2019-06-12 22:52:31,315 - DeepRL - DEBUG - global iter =   22 total obj:  5.4265\n"
     ]
    },
    {
     "name": "stderr",
     "output_type": "stream",
     "text": [
      "2019-06-12 22:52:31,334 - DeepRL - DEBUG - global iter =   23 total obj:  5.1890\n"
     ]
    },
    {
     "name": "stderr",
     "output_type": "stream",
     "text": [
      "2019-06-12 22:52:31,351 - DeepRL - DEBUG - global iter =   24 total obj:  4.9740\n"
     ]
    },
    {
     "name": "stderr",
     "output_type": "stream",
     "text": [
      "2019-06-12 22:52:31,369 - DeepRL - DEBUG - global iter =   25 total obj:  4.7785\n"
     ]
    },
    {
     "name": "stderr",
     "output_type": "stream",
     "text": [
      "2019-06-12 22:52:31,385 - DeepRL - DEBUG - global iter =   26 total obj:  4.6000\n"
     ]
    },
    {
     "name": "stderr",
     "output_type": "stream",
     "text": [
      "2019-06-12 22:52:31,402 - DeepRL - DEBUG - global iter =   27 total obj:  4.4365\n"
     ]
    },
    {
     "name": "stderr",
     "output_type": "stream",
     "text": [
      "2019-06-12 22:52:31,420 - DeepRL - DEBUG - global iter =   28 total obj:  4.2864\n"
     ]
    },
    {
     "name": "stderr",
     "output_type": "stream",
     "text": [
      "2019-06-12 22:52:31,437 - DeepRL - DEBUG - global iter =   29 total obj:  4.1482\n"
     ]
    },
    {
     "name": "stderr",
     "output_type": "stream",
     "text": [
      "2019-06-12 22:52:31,439 - DeepRL - DEBUG - started testing...\n"
     ]
    },
    {
     "name": "stderr",
     "output_type": "stream",
     "text": [
      "2019-06-12 22:52:31,612 - DeepRL - DEBUG - finished testing.\n"
     ]
    },
    {
     "name": "stdout",
     "output_type": "stream",
     "text": [
      "INFO:tensorflow:../results/model-30/model.cptk is not in all_model_checkpoint_paths. Manually adding it.\n"
     ]
    },
    {
     "name": "stderr",
     "output_type": "stream",
     "text": [
      "2019-06-12 22:52:31,873 - DeepRL - DEBUG - global iter =   30 total obj:  4.0208\n"
     ]
    },
    {
     "name": "stderr",
     "output_type": "stream",
     "text": [
      "2019-06-12 22:52:31,890 - DeepRL - DEBUG - global iter =   31 total obj:  3.9030\n"
     ]
    },
    {
     "name": "stderr",
     "output_type": "stream",
     "text": [
      "2019-06-12 22:52:31,907 - DeepRL - DEBUG - global iter =   32 total obj:  3.7940\n"
     ]
    },
    {
     "name": "stderr",
     "output_type": "stream",
     "text": [
      "2019-06-12 22:52:31,925 - DeepRL - DEBUG - global iter =   33 total obj:  3.6928\n"
     ]
    },
    {
     "name": "stderr",
     "output_type": "stream",
     "text": [
      "2019-06-12 22:52:31,942 - DeepRL - DEBUG - global iter =   34 total obj:  3.5989\n"
     ]
    },
    {
     "name": "stderr",
     "output_type": "stream",
     "text": [
      "2019-06-12 22:52:31,960 - DeepRL - DEBUG - global iter =   35 total obj:  3.5115\n"
     ]
    },
    {
     "name": "stderr",
     "output_type": "stream",
     "text": [
      "2019-06-12 22:52:31,977 - DeepRL - DEBUG - global iter =   36 total obj:  3.4301\n"
     ]
    },
    {
     "name": "stderr",
     "output_type": "stream",
     "text": [
      "2019-06-12 22:52:31,995 - DeepRL - DEBUG - global iter =   37 total obj:  3.3541\n"
     ]
    },
    {
     "name": "stderr",
     "output_type": "stream",
     "text": [
      "2019-06-12 22:52:32,012 - DeepRL - DEBUG - global iter =   38 total obj:  3.2831\n"
     ]
    },
    {
     "name": "stderr",
     "output_type": "stream",
     "text": [
      "2019-06-12 22:52:32,033 - DeepRL - DEBUG - global iter =   39 total obj:  3.2168\n"
     ]
    },
    {
     "name": "stderr",
     "output_type": "stream",
     "text": [
      "2019-06-12 22:52:32,034 - DeepRL - DEBUG - started testing...\n"
     ]
    },
    {
     "name": "stderr",
     "output_type": "stream",
     "text": [
      "2019-06-12 22:52:32,209 - DeepRL - DEBUG - finished testing.\n"
     ]
    },
    {
     "name": "stdout",
     "output_type": "stream",
     "text": [
      "INFO:tensorflow:../results/model-40/model.cptk is not in all_model_checkpoint_paths. Manually adding it.\n"
     ]
    },
    {
     "name": "stderr",
     "output_type": "stream",
     "text": [
      "2019-06-12 22:52:32,545 - DeepRL - DEBUG - global iter =   40 total obj:  3.1546\n"
     ]
    },
    {
     "name": "stderr",
     "output_type": "stream",
     "text": [
      "2019-06-12 22:52:32,565 - DeepRL - DEBUG - global iter =   41 total obj:  3.0964\n"
     ]
    },
    {
     "name": "stderr",
     "output_type": "stream",
     "text": [
      "2019-06-12 22:52:32,582 - DeepRL - DEBUG - global iter =   42 total obj:  3.0418\n"
     ]
    },
    {
     "name": "stderr",
     "output_type": "stream",
     "text": [
      "2019-06-12 22:52:32,600 - DeepRL - DEBUG - global iter =   43 total obj:  2.9906\n"
     ]
    },
    {
     "name": "stderr",
     "output_type": "stream",
     "text": [
      "2019-06-12 22:52:32,617 - DeepRL - DEBUG - global iter =   44 total obj:  2.9424\n"
     ]
    },
    {
     "name": "stderr",
     "output_type": "stream",
     "text": [
      "2019-06-12 22:52:32,635 - DeepRL - DEBUG - global iter =   45 total obj:  2.8972\n"
     ]
    },
    {
     "name": "stderr",
     "output_type": "stream",
     "text": [
      "2019-06-12 22:52:32,652 - DeepRL - DEBUG - global iter =   46 total obj:  2.8546\n"
     ]
    },
    {
     "name": "stderr",
     "output_type": "stream",
     "text": [
      "2019-06-12 22:52:32,669 - DeepRL - DEBUG - global iter =   47 total obj:  2.8146\n"
     ]
    },
    {
     "name": "stderr",
     "output_type": "stream",
     "text": [
      "2019-06-12 22:52:32,687 - DeepRL - DEBUG - global iter =   48 total obj:  2.7768\n"
     ]
    },
    {
     "name": "stderr",
     "output_type": "stream",
     "text": [
      "2019-06-12 22:52:32,704 - DeepRL - DEBUG - global iter =   49 total obj:  2.7413\n"
     ]
    },
    {
     "name": "stderr",
     "output_type": "stream",
     "text": [
      "2019-06-12 22:52:32,706 - DeepRL - DEBUG - opt finished.\n"
     ]
    },
    {
     "name": "stderr",
     "output_type": "stream",
     "text": [
      "2019-06-12 22:52:32,707 - DeepRL - DEBUG - started testing...\n"
     ]
    },
    {
     "name": "stderr",
     "output_type": "stream",
     "text": [
      "2019-06-12 22:52:32,881 - DeepRL - DEBUG - finished testing.\n"
     ]
    },
    {
     "name": "stdout",
     "output_type": "stream",
     "text": [
      "INFO:tensorflow:../results/model-final/model.cptk is not in all_model_checkpoint_paths. Manually adding it.\n"
     ]
    }
   ],
   "source": [
    "with LogFile(output_path, 'run.log'):\n",
    "    OptBEH.optimise(worker, output_path, data, test_data,\n",
    "                    learning_rate=0.01,\n",
    "                    global_iters=50,\n",
    "                    load_model_path=None,\n",
    "                    test_period=10\n",
    "                    )"
   ]
  },
  {
   "cell_type": "code",
   "execution_count": null,
   "metadata": {},
   "outputs": [],
   "source": []
  }
 ],
 "metadata": {
  "kernelspec": {
   "display_name": "Python 2",
   "language": "python",
   "name": "python2"
  },
  "language_info": {
   "codemirror_mode": {
    "name": "ipython",
    "version": 2
   },
   "file_extension": ".py",
   "mimetype": "text/x-python",
   "name": "python",
   "nbconvert_exporter": "python",
   "pygments_lexer": "ipython2",
   "version": "2.7.6"
  }
 },
 "nbformat": 4,
 "nbformat_minor": 0
}
